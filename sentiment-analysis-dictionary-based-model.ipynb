{
 "cells": [
  {
   "cell_type": "code",
   "execution_count": 1,
   "metadata": {
    "scrolled": false
   },
   "outputs": [
    {
     "name": "stdout",
     "output_type": "stream",
     "text": [
      "Requirement already satisfied: NRClex in c:\\users\\mahsa\\anaconda3\\lib\\site-packages (3.0.0)\n",
      "Requirement already satisfied: textblob in c:\\users\\mahsa\\anaconda3\\lib\\site-packages (from NRClex) (0.17.1)\n",
      "Requirement already satisfied: nltk>=3.1; python_version >= \"3\" in c:\\users\\mahsa\\anaconda3\\lib\\site-packages (from textblob->NRClex) (3.5)\n",
      "Requirement already satisfied: tqdm in c:\\users\\mahsa\\anaconda3\\lib\\site-packages (from nltk>=3.1; python_version >= \"3\"->textblob->NRClex) (4.50.2)\n",
      "Requirement already satisfied: click in c:\\users\\mahsa\\anaconda3\\lib\\site-packages (from nltk>=3.1; python_version >= \"3\"->textblob->NRClex) (7.1.2)\n",
      "Requirement already satisfied: joblib in c:\\users\\mahsa\\anaconda3\\lib\\site-packages (from nltk>=3.1; python_version >= \"3\"->textblob->NRClex) (0.17.0)\n",
      "Requirement already satisfied: regex in c:\\users\\mahsa\\anaconda3\\lib\\site-packages (from nltk>=3.1; python_version >= \"3\"->textblob->NRClex) (2020.10.15)\n"
     ]
    }
   ],
   "source": [
    "!pip install NRClex\n"
   ]
  },
  {
   "cell_type": "code",
   "execution_count": 2,
   "metadata": {},
   "outputs": [
    {
     "name": "stderr",
     "output_type": "stream",
     "text": [
      "[nltk_data] Downloading package punkt to\n",
      "[nltk_data]     C:\\Users\\MAHSA\\AppData\\Roaming\\nltk_data...\n",
      "[nltk_data]   Package punkt is already up-to-date!\n"
     ]
    }
   ],
   "source": [
    "import nltk as nltk\n",
    "nltk.download('punkt')\n",
    "from nrclex import NRCLex\n",
    "import numpy as np\n",
    "import pandas as pd\n",
    "\n"
   ]
  },
  {
   "cell_type": "code",
   "execution_count": null,
   "metadata": {},
   "outputs": [],
   "source": [
    "df_twitter = pd.read_csv('twitter.csv')\n"
   ]
  },
  {
   "cell_type": "code",
   "execution_count": 3,
   "metadata": {},
   "outputs": [],
   "source": [
    "df_twitter2 = pd.read_csv('twitter_2.csv')"
   ]
  },
  {
   "cell_type": "code",
   "execution_count": 4,
   "metadata": {},
   "outputs": [
    {
     "name": "stdout",
     "output_type": "stream",
     "text": [
      "<class 'pandas.core.frame.DataFrame'>\n",
      "RangeIndex: 2324290 entries, 0 to 2324289\n",
      "Data columns (total 15 columns):\n",
      " #   Column         Dtype \n",
      "---  ------         ----- \n",
      " 0   date           object\n",
      " 1   tweet_id       int64 \n",
      " 2   content        object\n",
      " 3   replycount     int64 \n",
      " 4   retweetcount   int64 \n",
      " 5   likecount      int64 \n",
      " 6   username       object\n",
      " 7   lang           object\n",
      " 8   media          object\n",
      " 9   hashtags       object\n",
      " 10  crunchbase_id  int64 \n",
      " 11  id             int64 \n",
      " 12  day            int64 \n",
      " 13  month          int64 \n",
      " 14  year           int64 \n",
      "dtypes: int64(9), object(6)\n",
      "memory usage: 266.0+ MB\n"
     ]
    }
   ],
   "source": [
    "df_twitter2.info()"
   ]
  },
  {
   "cell_type": "code",
   "execution_count": null,
   "metadata": {},
   "outputs": [],
   "source": [
    "df_twitter['content'] = df_twitter['content'].astype('string')"
   ]
  },
  {
   "cell_type": "code",
   "execution_count": 5,
   "metadata": {},
   "outputs": [],
   "source": [
    "df_twitter2['content'] = df_twitter2['content'].astype('string')"
   ]
  },
  {
   "cell_type": "code",
   "execution_count": null,
   "metadata": {},
   "outputs": [],
   "source": [
    "#df['title'] = df['title'].astype(str)\n",
    "#df['date'] = df['date'].astype('str')\n",
    "#df['date'] = df['date'].str.replace(',', '')\n",
    "#df['date'] = pd.to_numeric(df['date'], errors='coerce')\n",
    "df_twitter.dtypes"
   ]
  },
  {
   "cell_type": "code",
   "execution_count": null,
   "metadata": {},
   "outputs": [],
   "source": [
    "df_twitter['emotions'] = df_twitter['content'].apply(lambda x:NRCLex(x).affect_frequencies)"
   ]
  },
  {
   "cell_type": "code",
   "execution_count": 6,
   "metadata": {},
   "outputs": [],
   "source": [
    "df_twitter2['emotions'] = df_twitter2['content'].apply(lambda x:NRCLex(x).affect_frequencies)"
   ]
  },
  {
   "cell_type": "code",
   "execution_count": null,
   "metadata": {},
   "outputs": [],
   "source": [
    "df_twitter.to_csv('NRClex-twitter.csv', index=False)"
   ]
  },
  {
   "cell_type": "code",
   "execution_count": 7,
   "metadata": {},
   "outputs": [],
   "source": [
    "df_twitter2.to_csv('NRClex-twitter2.csv', index=False)"
   ]
  },
  {
   "cell_type": "code",
   "execution_count": null,
   "metadata": {},
   "outputs": [],
   "source": [
    "with open('Untitled.xls',  encoding=\"UTF16\", errors='ignore') as infile:\n",
    "     df_techcrunch_2 = pd.read_excel('Untitled.xls')\n",
    "         "
   ]
  },
  {
   "cell_type": "code",
   "execution_count": null,
   "metadata": {},
   "outputs": [],
   "source": [
    "df_techcrunch_2.dtypes"
   ]
  },
  {
   "cell_type": "code",
   "execution_count": null,
   "metadata": {},
   "outputs": [],
   "source": [
    "df_techcrunch_2['content'] = df_techcrunch_2['content'].astype('string')\n",
    "df_techcrunch_2['excerpt'] = df_techcrunch_2['excerpt'].astype('string')\n",
    "df_techcrunch_2['crunchbase_id'] = df_techcrunch_2['crunchbase_id'].astype('string')\n",
    "df_techcrunch_2['crunchbase_id'] = df_techcrunch_2['crunchbase_id'].str.replace(']', '')\n",
    "df_techcrunch_2['crunchbase_id'] = df_techcrunch_2['crunchbase_id'].str.replace('[', '')\n",
    "\n",
    "df_techcrunch_2.dtypes"
   ]
  },
  {
   "cell_type": "code",
   "execution_count": null,
   "metadata": {},
   "outputs": [],
   "source": [
    "print(df_techcrunch_2)"
   ]
  },
  {
   "cell_type": "code",
   "execution_count": null,
   "metadata": {},
   "outputs": [],
   "source": [
    "import numpy as np\n",
    "df_techcrunch_2[['id','date','content']]=np.repeat(df_techcrunch_2[['id','date','content']].values(df_techcrunch_2['crunchbase_id'].str.split('\\n').str.len()),axis=0)\n",
    "df_techcrunch_2['crunchbase_id']=','.join(df_techcrunch_2['crunchbase_id'].values.flatten()).split()"
   ]
  },
  {
   "cell_type": "code",
   "execution_count": null,
   "metadata": {},
   "outputs": [],
   "source": [
    "df_techcrunch_2['excerpt_emotions'] = df_techcrunch_2['excerpt'].apply(lambda x:NRCLex(x).affect_frequencies)"
   ]
  },
  {
   "cell_type": "code",
   "execution_count": null,
   "metadata": {},
   "outputs": [],
   "source": [
    "df_techcrunch_2['content_emotions'] = df_techcrunch_2['content'].apply(lambda x:NRCLex(x).affect_frequencies)"
   ]
  },
  {
   "cell_type": "code",
   "execution_count": null,
   "metadata": {},
   "outputs": [],
   "source": [
    "df_techcrunch_2.to_csv('NRClex-techcrunch_2.csv', index=False)"
   ]
  },
  {
   "cell_type": "code",
   "execution_count": null,
   "metadata": {},
   "outputs": [],
   "source": []
  }
 ],
 "metadata": {
  "kernelspec": {
   "display_name": "Python 3",
   "language": "python",
   "name": "python3"
  },
  "language_info": {
   "codemirror_mode": {
    "name": "ipython",
    "version": 3
   },
   "file_extension": ".py",
   "mimetype": "text/x-python",
   "name": "python",
   "nbconvert_exporter": "python",
   "pygments_lexer": "ipython3",
   "version": "3.8.5"
  }
 },
 "nbformat": 4,
 "nbformat_minor": 4
}
